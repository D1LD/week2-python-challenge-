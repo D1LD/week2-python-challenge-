{
 "cells": [
  {
   "cell_type": "code",
   "execution_count": 1,
   "id": "1f2d36ce-cae0-4591-80c2-f3821a266379",
   "metadata": {},
   "outputs": [
    {
     "data": {
      "text/html": [
       "<div>\n",
       "<style scoped>\n",
       "    .dataframe tbody tr th:only-of-type {\n",
       "        vertical-align: middle;\n",
       "    }\n",
       "\n",
       "    .dataframe tbody tr th {\n",
       "        vertical-align: top;\n",
       "    }\n",
       "\n",
       "    .dataframe thead th {\n",
       "        text-align: right;\n",
       "    }\n",
       "</style>\n",
       "<table border=\"1\" class=\"dataframe\">\n",
       "  <thead>\n",
       "    <tr style=\"text-align: right;\">\n",
       "      <th></th>\n",
       "      <th>Date</th>\n",
       "      <th>Profit/Losses</th>\n",
       "    </tr>\n",
       "  </thead>\n",
       "  <tbody>\n",
       "    <tr>\n",
       "      <th>0</th>\n",
       "      <td>Jan-2010</td>\n",
       "      <td>867884</td>\n",
       "    </tr>\n",
       "    <tr>\n",
       "      <th>1</th>\n",
       "      <td>Feb-2010</td>\n",
       "      <td>984655</td>\n",
       "    </tr>\n",
       "    <tr>\n",
       "      <th>2</th>\n",
       "      <td>Mar-2010</td>\n",
       "      <td>322013</td>\n",
       "    </tr>\n",
       "    <tr>\n",
       "      <th>3</th>\n",
       "      <td>Apr-2010</td>\n",
       "      <td>-69417</td>\n",
       "    </tr>\n",
       "    <tr>\n",
       "      <th>4</th>\n",
       "      <td>May-2010</td>\n",
       "      <td>310503</td>\n",
       "    </tr>\n",
       "  </tbody>\n",
       "</table>\n",
       "</div>"
      ],
      "text/plain": [
       "       Date  Profit/Losses\n",
       "0  Jan-2010         867884\n",
       "1  Feb-2010         984655\n",
       "2  Mar-2010         322013\n",
       "3  Apr-2010         -69417\n",
       "4  May-2010         310503"
      ]
     },
     "execution_count": 1,
     "metadata": {},
     "output_type": "execute_result"
    }
   ],
   "source": [
    "#import algo file\n",
    "import pandas as pd\n",
    "from pathlib import Path\n",
    "import numpy as np\n",
    "\n",
    "\n",
    "budegt1=Path(\"budget_data.csv\")\n",
    "budget=pd.read_csv(budegt1)\n",
    "budget.head()"
   ]
  },
  {
   "cell_type": "code",
   "execution_count": 2,
   "id": "1d578537-3c0a-4b8f-acc4-c5e55a3ddfdd",
   "metadata": {},
   "outputs": [
    {
     "name": "stdout",
     "output_type": "stream",
     "text": [
      "total months:  86\n"
     ]
    }
   ],
   "source": [
    "#count month\n",
    "rows=len(budget.axes[0])\n",
    "print(\"total months: \",rows)\n",
    "\n"
   ]
  },
  {
   "cell_type": "code",
   "execution_count": 3,
   "id": "8071d04d-2567-45ff-9339-2c3179fd0194",
   "metadata": {},
   "outputs": [
    {
     "name": "stdout",
     "output_type": "stream",
     "text": [
      "total PL is : 38382578\n"
     ]
    }
   ],
   "source": [
    "#total Profit and Losses\n",
    "total=budget[\"Profit/Losses\"].sum()\n",
    "print(\"total PL is :\", total)"
   ]
  },
  {
   "cell_type": "code",
   "execution_count": 7,
   "id": "7315f6c5-1c3e-4836-a94c-602fcfd84183",
   "metadata": {},
   "outputs": [
    {
     "name": "stdout",
     "output_type": "stream",
     "text": [
      "Greatest Increase is  1170593\n",
      "Greatest Decrease is  -1196225\n"
     ]
    }
   ],
   "source": [
    "#Highest and lowest \n",
    "h=budget[\"Profit/Losses\"].max()\n",
    "l=budget[\"Profit/Losses\"].min()\n",
    "\n",
    "\n",
    "print(\"Greatest Increase is \" , h)\n",
    "print(\"Greatest Decrease is \" , l)\n"
   ]
  },
  {
   "cell_type": "code",
   "execution_count": 8,
   "id": "ca9d0df9-7923-448d-a5e3-513b4d4640de",
   "metadata": {},
   "outputs": [
    {
     "name": "stdout",
     "output_type": "stream",
     "text": [
      "Average change is : 446309.0465116279\n"
     ]
    }
   ],
   "source": [
    "#Avergae change\n",
    "a=budget[\"Profit/Losses\"].mean()\n",
    "print(\"Average change is :\", a)\n",
    "\n"
   ]
  },
  {
   "cell_type": "code",
   "execution_count": null,
   "id": "dbd37ef9-ea10-418c-8e33-2855d3399262",
   "metadata": {},
   "outputs": [],
   "source": []
  }
 ],
 "metadata": {
  "kernelspec": {
   "display_name": "Python 3 (ipykernel)",
   "language": "python",
   "name": "python3"
  },
  "language_info": {
   "codemirror_mode": {
    "name": "ipython",
    "version": 3
   },
   "file_extension": ".py",
   "mimetype": "text/x-python",
   "name": "python",
   "nbconvert_exporter": "python",
   "pygments_lexer": "ipython3",
   "version": "3.7.13"
  }
 },
 "nbformat": 4,
 "nbformat_minor": 5
}
